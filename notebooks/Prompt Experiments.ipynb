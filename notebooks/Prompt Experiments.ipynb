{
 "cells": [
  {
   "cell_type": "code",
   "execution_count": 1,
   "id": "739f6fdc-4d24-4464-844e-caf8cd27c6ac",
   "metadata": {},
   "outputs": [],
   "source": [
    "from openai import OpenAI\n",
    "client = OpenAI()"
   ]
  },
  {
   "cell_type": "code",
   "execution_count": 24,
   "id": "cdadae18-0b16-48a5-b319-7891167b4612",
   "metadata": {},
   "outputs": [],
   "source": [
    "def summarise_code(code: str, max_tokens: int = 100) -> str:\n",
    "    response = client.chat.completions.create(\n",
    "      model=\"gpt-4-1106-preview\",\n",
    "      messages=[\n",
    "        {\n",
    "          \"role\": \"system\",\n",
    "          \"content\": \"You are a helpful assistant who helps to summarise code.\"\n",
    "        },\n",
    "        {\n",
    "          \"role\": \"user\",\n",
    "          \"content\": f\"What is the purpose of this function, one liner?\\n\\n{ code }\"\n",
    "        }\n",
    "      ],\n",
    "      temperature=0.1,\n",
    "      max_tokens=max_tokens,\n",
    "      top_p=1,\n",
    "      frequency_penalty=0,\n",
    "      presence_penalty=0\n",
    "    )\n",
    "    \n",
    "    return response.choices[0].message.content"
   ]
  },
  {
   "cell_type": "code",
   "execution_count": 25,
   "id": "46152ea5-d81f-424b-9545-edf1dc7c9e4f",
   "metadata": {},
   "outputs": [
    {
     "name": "stdout",
     "output_type": "stream",
     "text": [
      "The purpose of this function is to validate a link statistics request by checking if the provided 'url' is a valid short link and if the 'offset' is a non-negative number, using the Joi validation library.\n"
     ]
    }
   ],
   "source": [
    "print(summarise_code('''/**\n",
    " * Determines whether the link statistics request is valid.\n",
    " */\n",
    "const linkStatisticsSchema = Joi.object({\n",
    "  url: Joi.string()\n",
    "    .custom((url: string, helpers) => {\n",
    "      if (!isValidShortUrl(url)) {\n",
    "        return helpers.message({ custom: 'Not a valid short link' })\n",
    "      }\n",
    "      return url\n",
    "    })\n",
    "    .required(),\n",
    "  offset: Joi.number().min(0),\n",
    "})'''))"
   ]
  },
  {
   "cell_type": "code",
   "execution_count": 26,
   "id": "da060fa9-bb44-4cd8-a7ec-b876119161da",
   "metadata": {},
   "outputs": [
    {
     "name": "stdout",
     "output_type": "stream",
     "text": [
      "The purpose of this one-liner is to define a route handler for HTTP GET requests on the root path ('/') of a web application using a router (typically from an Express.js-like framework). When a GET request is made to the root path, the router first applies a query parameter validation middleware (`validator.query(linkStatisticsSchema)`) to validate the query parameters against the `linkStatisticsSchema`. If the query parameters are valid, it then calls the `getLinkStatistics` method from the `statistics\n"
     ]
    }
   ],
   "source": [
    "print(summarise_code('''router.get(\n",
    "  '/',\n",
    "  validator.query(linkStatisticsSchema),\n",
    "  statisticsController.getLinkStatistics,\n",
    ")'''))"
   ]
  },
  {
   "cell_type": "code",
   "execution_count": null,
   "id": "c3d734b0-d74e-4329-9151-8b33de9907e3",
   "metadata": {},
   "outputs": [],
   "source": []
  }
 ],
 "metadata": {
  "kernelspec": {
   "display_name": "Python 3 (ipykernel)",
   "language": "python",
   "name": "python3"
  },
  "language_info": {
   "codemirror_mode": {
    "name": "ipython",
    "version": 3
   },
   "file_extension": ".py",
   "mimetype": "text/x-python",
   "name": "python",
   "nbconvert_exporter": "python",
   "pygments_lexer": "ipython3",
   "version": "3.11.4"
  }
 },
 "nbformat": 4,
 "nbformat_minor": 5
}
